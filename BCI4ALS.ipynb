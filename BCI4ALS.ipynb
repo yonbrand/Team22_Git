{
  "nbformat": 4,
  "nbformat_minor": 0,
  "metadata": {
    "colab": {
      "name": "BCI4ALS.ipynb",
      "provenance": [],
      "collapsed_sections": [],
      "include_colab_link": true
    },
    "kernelspec": {
      "name": "python3",
      "display_name": "Python 3"
    },
    "language_info": {
      "name": "python"
    }
  },
  "cells": [
    {
      "cell_type": "markdown",
      "metadata": {
        "id": "view-in-github",
        "colab_type": "text"
      },
      "source": [
        "<a href=\"https://colab.research.google.com/github/yonbrand/Team22_Git/blob/main/BCI4ALS.ipynb\" target=\"_parent\"><img src=\"https://colab.research.google.com/assets/colab-badge.svg\" alt=\"Open In Colab\"/></a>"
      ]
    },
    {
      "cell_type": "markdown",
      "source": [
        "# Yonatan B"
      ],
      "metadata": {
        "id": "iZvPHR_l-fv0"
      }
    },
    {
      "cell_type": "code",
      "source": [
        "from google.colab import drive\n",
        "drive.mount('/content/drive/', force_remount=True)"
      ],
      "metadata": {
        "colab": {
          "base_uri": "https://localhost:8080/"
        },
        "id": "7D8mMdE8-jMT",
        "outputId": "24cff05e-48c5-47bc-b068-76b41b2e82ca"
      },
      "execution_count": null,
      "outputs": [
        {
          "output_type": "stream",
          "name": "stdout",
          "text": [
            "Mounted at /content/drive/\n"
          ]
        }
      ]
    },
    {
      "cell_type": "code",
      "source": [
        "main_path='/content/drive/MyDrive/TAU Team - 22 - Yonatan*2, Niv, Idan/'\n",
        "m1path=main_path+'MI1 - raw data /'\n",
        "m4path=main_path+'MI4 - Extracted Features /'\n",
        "HUJI_path= main_path+'HUJI_Data/2/' #good data (new headset) from huji team"
      ],
      "metadata": {
        "id": "IO1C9MiWBzH8"
      },
      "execution_count": null,
      "outputs": []
    },
    {
      "cell_type": "code",
      "source": [
        "import scipy.io as sio\n",
        "import os"
      ],
      "metadata": {
        "id": "1uWyihMTB5YE"
      },
      "execution_count": null,
      "outputs": []
    },
    {
      "cell_type": "code",
      "source": [
        "os.path.isdir(HUJI_path)"
      ],
      "metadata": {
        "colab": {
          "base_uri": "https://localhost:8080/"
        },
        "id": "-eCDCOkbEYg4",
        "outputId": "ff134bf1-a353-4f1f-b5f6-2715d5fc09e7"
      },
      "execution_count": null,
      "outputs": [
        {
          "output_type": "execute_result",
          "data": {
            "text/plain": [
              "True"
            ]
          },
          "metadata": {},
          "execution_count": 7
        }
      ]
    },
    {
      "cell_type": "code",
      "source": [
        "#read the mat file of the trial's condition vector\n",
        "trainingVec=sio.loadmat(HUJI_path+'trainingVec.mat' )"
      ],
      "metadata": {
        "id": "H2l0SiOlDUlU"
      },
      "execution_count": null,
      "outputs": []
    },
    {
      "cell_type": "code",
      "source": [
        "trainingVec=trainingVec['trainingVec']\n",
        "trainingVec #in huji there is only 2 conditions (right/left)"
      ],
      "metadata": {
        "colab": {
          "base_uri": "https://localhost:8080/"
        },
        "id": "iixSfGU0D5iw",
        "outputId": "b32c9b54-6e7b-421a-cfc5-a5f64253581a"
      },
      "execution_count": null,
      "outputs": [
        {
          "output_type": "execute_result",
          "data": {
            "text/plain": [
              "array([[1, 1, 2, 2, 2, 2, 2, 1, 1, 2, 1, 1, 2, 1, 1, 1, 2, 2, 2, 2, 2, 1,\n",
              "        1, 1, 1, 1, 2, 1, 2, 1, 1, 1, 2, 1, 2, 2, 2, 2, 2, 1, 1, 2, 1, 1,\n",
              "        1, 2, 1, 2, 2, 2, 2, 1, 1, 2, 2, 2, 1, 1, 1, 2, 1, 1, 2, 2, 2, 2,\n",
              "        2, 1, 2, 1, 1, 2, 1, 2, 1, 2, 1, 2, 1, 1, 2, 1, 1, 2, 2, 1, 1, 1,\n",
              "        1, 2, 1, 1, 2, 1, 1, 1, 2, 1, 2, 2, 1, 2, 1, 2, 2, 1, 2, 2, 2, 1,\n",
              "        1, 1, 1, 2, 2, 2, 1, 1, 2, 1, 1, 2, 2, 2, 2, 2, 1, 1, 2, 1, 1, 1,\n",
              "        1, 2, 2, 1, 2, 2, 2, 2]], dtype=uint8)"
            ]
          },
          "metadata": {},
          "execution_count": 9
        }
      ]
    },
    {
      "cell_type": "code",
      "source": [
        "from sklearn import preprocessing\n",
        "labels=trainingVec.T\n",
        "le = preprocessing.LabelEncoder()\n",
        "le.fit(labels)\n",
        "labels_n=le.transform(labels)"
      ],
      "metadata": {
        "id": "fQJk3InxNb6Z",
        "colab": {
          "base_uri": "https://localhost:8080/"
        },
        "outputId": "9cd26fbb-caff-4c40-cb24-6d3fd510813b"
      },
      "execution_count": null,
      "outputs": [
        {
          "output_type": "stream",
          "name": "stderr",
          "text": [
            "/usr/local/lib/python3.7/dist-packages/sklearn/preprocessing/_label.py:98: DataConversionWarning: A column-vector y was passed when a 1d array was expected. Please change the shape of y to (n_samples, ), for example using ravel().\n",
            "  y = column_or_1d(y, warn=True)\n",
            "/usr/local/lib/python3.7/dist-packages/sklearn/preprocessing/_label.py:133: DataConversionWarning: A column-vector y was passed when a 1d array was expected. Please change the shape of y to (n_samples, ), for example using ravel().\n",
            "  y = column_or_1d(y, warn=True)\n"
          ]
        }
      ]
    },
    {
      "cell_type": "code",
      "source": [
        "labels_n"
      ],
      "metadata": {
        "colab": {
          "base_uri": "https://localhost:8080/"
        },
        "id": "PAzcWZUpLbpY",
        "outputId": "f8fa666d-0009-4400-932d-c8c6cee74e1e"
      },
      "execution_count": null,
      "outputs": [
        {
          "output_type": "execute_result",
          "data": {
            "text/plain": [
              "array([0, 0, 1, 1, 1, 1, 1, 0, 0, 1, 0, 0, 1, 0, 0, 0, 1, 1, 1, 1, 1, 0,\n",
              "       0, 0, 0, 0, 1, 0, 1, 0, 0, 0, 1, 0, 1, 1, 1, 1, 1, 0, 0, 1, 0, 0,\n",
              "       0, 1, 0, 1, 1, 1, 1, 0, 0, 1, 1, 1, 0, 0, 0, 1, 0, 0, 1, 1, 1, 1,\n",
              "       1, 0, 1, 0, 0, 1, 0, 1, 0, 1, 0, 1, 0, 0, 1, 0, 0, 1, 1, 0, 0, 0,\n",
              "       0, 1, 0, 0, 1, 0, 0, 0, 1, 0, 1, 1, 0, 1, 0, 1, 1, 0, 1, 1, 1, 0,\n",
              "       0, 0, 0, 1, 1, 1, 0, 0, 1, 0, 0, 1, 1, 1, 1, 1, 0, 0, 1, 0, 0, 0,\n",
              "       0, 1, 1, 0, 1, 1, 1, 1])"
            ]
          },
          "metadata": {},
          "execution_count": 12
        }
      ]
    },
    {
      "cell_type": "code",
      "source": [
        "#load features\n",
        "MIFeatures=sio.loadmat(HUJI_path+'AllDataInFeatures.mat' )"
      ],
      "metadata": {
        "id": "xU5wmzqRLVYF"
      },
      "execution_count": null,
      "outputs": []
    },
    {
      "cell_type": "code",
      "source": [
        "MIFeatures=MIFeatures['AllDataInFeatures']\n",
        "\n",
        "MIFeatures.shape"
      ],
      "metadata": {
        "colab": {
          "base_uri": "https://localhost:8080/"
        },
        "id": "FcbLOqoFMEus",
        "outputId": "ac2e8184-5015-4535-82cb-8ff22a37729b"
      },
      "execution_count": null,
      "outputs": [
        {
          "output_type": "execute_result",
          "data": {
            "text/plain": [
              "(140, 211)"
            ]
          },
          "metadata": {},
          "execution_count": 14
        }
      ]
    },
    {
      "cell_type": "code",
      "source": [
        "from sklearn.model_selection import train_test_split\n",
        "from sklearn.preprocessing import StandardScaler\n",
        "from sklearn.linear_model import LogisticRegression\n",
        "from sklearn.ensemble import RandomForestClassifier\n",
        "from sklearn.model_selection import GridSearchCV\n",
        "import pandas as pd\n",
        "\n",
        "ALPHAS = [1e-4,1e-3,1e-2,1e-0,1e+1,1e+2]\n",
        "L1 = [0,0.25,0.5,0.75,1]\n",
        "PARAM_GRID = {\"C\": ALPHAS, \"l1_ratio\": L1}\n",
        "rf_grid={'max_depth': [1,5,10,15],\n",
        " 'max_features': ['auto', 'sqrt'],\n",
        " 'n_estimators': [200, 400, 600]}\n",
        "\n",
        "N_CROSS_VALIDATIONS = 5\n",
        "SCORING = [\"accuracy\"]\n",
        "\n",
        "models = {'LR': (LogisticRegression(), PARAM_GRID),\n",
        "          'RF': (RandomForestClassifier(),rf_grid)}\n",
        "best_models = []\n",
        "accuracy_scores=[]\n",
        "#split the data\n",
        "    # features_train, features_test, label_train,label_test = train_test_split(MIFeatures,labels_n, test_size=0, random_state=0)\n",
        "    #standardize the features\n",
        "  \n",
        "    # scaler = StandardScaler()\n",
        "    # features_transformed_train=scaler.fit_transform(features_train)\n",
        "    # scaler = StandardScaler()\n",
        "    # features_transformed_test=scaler.fit_transform(features_test)\n",
        "\n",
        "features_train, features_test, y_train,y_test = train_test_split(MIFeatures,labels, test_size=0.2, random_state=0)\n",
        "\n",
        "scaler = StandardScaler()\n",
        "X_train=scaler.fit_transform(features_train)\n",
        "scaler = StandardScaler()\n",
        "X_test=scaler.fit_transform(features_test)\n",
        "\n",
        "# scaler = StandardScaler()\n",
        "# X = scaler.fit_transform(MIFeatures)\n",
        "# y = labels\n",
        "\n",
        "for model_name in models.keys():\n",
        "  model, params = models[model_name]\n",
        "  SEARCH_CONFIGURATION = {\n",
        "        \"estimator\": model,\n",
        "        \"param_grid\": params,\n",
        "        \"scoring\": SCORING,\n",
        "        \"cv\": N_CROSS_VALIDATIONS,\n",
        "        \"refit\": \"accuracy\",\n",
        "        \"n_jobs\": 8\n",
        "    }\n",
        "\n",
        "  linear_model_searcher = GridSearchCV(**SEARCH_CONFIGURATION)\n",
        "  _ = linear_model_searcher.fit(X_train, y_train)\n",
        "\n",
        "  linear_search_results = pd.DataFrame(linear_model_searcher.cv_results_)\n",
        "  best_model = linear_model_searcher.best_estimator_\n",
        "  best_models.append(best_model)      \n",
        "  best_score = best_model.score(X_test,y_test)\n",
        "  print(f'best score for {model_name} is {best_score}')\n",
        "  accuracy_scores.append(best_score)\n",
        "\n",
        "\n",
        "# test_sizes = [0.1,0.2,0.3,0.4,0.5]\n",
        "# accuracy_scores=[]\n",
        "# for test_size in test_sizes:\n",
        "#     #split the data\n",
        "#     features_train, features_test, label_train,label_test = train_test_split(MIFeatures,labels_n, test_size=test_size, random_state=0)\n",
        "#     #standardize the features\n",
        "  \n",
        "#     scaler = StandardScaler()\n",
        "#     features_transformed_train=scaler.fit_transform(features_train)\n",
        "#     scaler = StandardScaler()\n",
        "#     features_transformed_test=scaler.fit_transform(features_test)\n",
        "  "
      ],
      "metadata": {
        "colab": {
          "base_uri": "https://localhost:8080/"
        },
        "id": "Oh7NFYSSGkIu",
        "outputId": "20182743-220d-422e-c57c-af046c10393b"
      },
      "execution_count": null,
      "outputs": [
        {
          "output_type": "stream",
          "name": "stderr",
          "text": [
            "/usr/local/lib/python3.7/dist-packages/sklearn/linear_model/_logistic.py:1479: UserWarning: l1_ratio parameter is only used when penalty is 'elasticnet'. Got (penalty=l2)\n",
            "  \"(penalty={})\".format(self.penalty)\n",
            "/usr/local/lib/python3.7/dist-packages/sklearn/utils/validation.py:985: DataConversionWarning: A column-vector y was passed when a 1d array was expected. Please change the shape of y to (n_samples, ), for example using ravel().\n",
            "  y = column_or_1d(y, warn=True)\n",
            "/usr/local/lib/python3.7/dist-packages/sklearn/linear_model/_logistic.py:818: ConvergenceWarning: lbfgs failed to converge (status=1):\n",
            "STOP: TOTAL NO. of ITERATIONS REACHED LIMIT.\n",
            "\n",
            "Increase the number of iterations (max_iter) or scale the data as shown in:\n",
            "    https://scikit-learn.org/stable/modules/preprocessing.html\n",
            "Please also refer to the documentation for alternative solver options:\n",
            "    https://scikit-learn.org/stable/modules/linear_model.html#logistic-regression\n",
            "  extra_warning_msg=_LOGISTIC_SOLVER_CONVERGENCE_MSG,\n"
          ]
        },
        {
          "output_type": "stream",
          "name": "stdout",
          "text": [
            "best score for LR is 0.4642857142857143\n"
          ]
        },
        {
          "output_type": "stream",
          "name": "stderr",
          "text": [
            "/usr/local/lib/python3.7/dist-packages/sklearn/model_selection/_search.py:926: DataConversionWarning: A column-vector y was passed when a 1d array was expected. Please change the shape of y to (n_samples,), for example using ravel().\n",
            "  self.best_estimator_.fit(X, y, **fit_params)\n"
          ]
        },
        {
          "output_type": "stream",
          "name": "stdout",
          "text": [
            "best score for RF is 0.5\n"
          ]
        }
      ]
    },
    {
      "cell_type": "code",
      "source": [
        "best_models"
      ],
      "metadata": {
        "colab": {
          "base_uri": "https://localhost:8080/"
        },
        "id": "fbQbWQAoUMdO",
        "outputId": "ec1c0f5e-3770-472c-8a2e-206d9bb00d06"
      },
      "execution_count": null,
      "outputs": [
        {
          "output_type": "execute_result",
          "data": {
            "text/plain": [
              "[LogisticRegression(C=100.0, l1_ratio=0),\n",
              " RandomForestClassifier(max_depth=5, n_estimators=400)]"
            ]
          },
          "metadata": {},
          "execution_count": 36
        }
      ]
    },
    {
      "cell_type": "code",
      "source": [
        "best_models[0].score(X, y)"
      ],
      "metadata": {
        "colab": {
          "base_uri": "https://localhost:8080/"
        },
        "id": "K5Rl_6EuVjMw",
        "outputId": "990f503d-7886-4dda-c4d4-fa01f0185f82"
      },
      "execution_count": null,
      "outputs": [
        {
          "output_type": "execute_result",
          "data": {
            "text/plain": [
              "1.0"
            ]
          },
          "metadata": {},
          "execution_count": 37
        }
      ]
    },
    {
      "cell_type": "code",
      "source": [
        "accuracy_scores"
      ],
      "metadata": {
        "colab": {
          "base_uri": "https://localhost:8080/"
        },
        "id": "PGQgUELvKpnX",
        "outputId": "cdb6e899-11c1-4e5b-82bf-9592ff4a9dcc"
      },
      "execution_count": null,
      "outputs": [
        {
          "output_type": "execute_result",
          "data": {
            "text/plain": [
              "[0.5714285714285714,\n",
              " 0.42857142857142855,\n",
              " 0.40476190476190477,\n",
              " 0.4642857142857143,\n",
              " 0.42857142857142855]"
            ]
          },
          "metadata": {},
          "execution_count": 16
        }
      ]
    }
  ]
}